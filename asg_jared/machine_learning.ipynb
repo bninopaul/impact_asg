{
 "cells": [
  {
   "cell_type": "code",
   "execution_count": 1,
   "metadata": {
    "collapsed": true
   },
   "outputs": [],
   "source": [
    "import numpy as np\n",
    "import pandas as pd\n",
    "import scipy as sp\n",
    "from sklearn import model_selection, linear_model, tree, ensemble, preprocessing, metrics\n",
    "pd.set_option(\"display.max_columns\", 1000)"
   ]
  },
  {
   "cell_type": "markdown",
   "metadata": {},
   "source": [
    "#### Professor Rates"
   ]
  },
  {
   "cell_type": "code",
   "execution_count": 2,
   "metadata": {
    "collapsed": false
   },
   "outputs": [],
   "source": [
    "#load the data\n",
    "train = pd.read_csv(\"rmp_train.csv\")\n",
    "test = pd.read_csv(\"rmp_test.csv\")\n",
    "\n",
    "train[\"textbookuse\"] = [str(i) if type(i)!=str else i for i in train[\"textbookuse\"]]\n",
    "test[\"textbookuse\"] = [str(i) if type(i)!=str else i for i in test[\"textbookuse\"]]\n",
    "\n",
    "train[\"comments\"] = [str(i) if type(i)!=str else i for i in train[\"comments\"]]\n",
    "test[\"comments\"] = [str(i) if type(i)!=str else i for i in test[\"comments\"]]\n",
    "\n",
    "train[\"interest\"] = [str(i) if type(i)!=str else i for i in train[\"interest\"]]\n",
    "test[\"interest\"] = [str(i) if type(i)!=str else i for i in test[\"interest\"]]"
   ]
  },
  {
   "cell_type": "code",
   "execution_count": 119,
   "metadata": {
    "collapsed": false
   },
   "outputs": [],
   "source": [
    "#preprop\n",
    "\n",
    "feats = [\"dept\", \"helpcount\", \"profgender\", \"nothelpcount\", \"profhotness\", \"easiness\", \"textbookuse\", \"interest\"] \n",
    "X_train = train[feats]#.drop(\"textbookuse\", axis=1)\n",
    "y_train = train[\"quality\"]\n",
    "\n",
    "X_test = test[feats]#.drop(\"textbookuse\", axis=1)\n",
    "y_test = test[\"quality\"]\n",
    "\n",
    "\n",
    "#binarize dept\n",
    "lb = preprocessing.LabelBinarizer()\n",
    "dept_bin_train = pd.DataFrame(lb.fit_transform(X_train[\"dept\"])[:,:-1],\n",
    "                    columns=[\"dept_%s\"%(i) for i in range(len(X_train[\"dept\"].unique())-1)])\n",
    "\n",
    "dept_bin_test = pd.DataFrame(lb.transform(X_test[\"dept\"])[:,:-1],\n",
    "                    columns=[\"dept_%s\"%(i) for i in range(len(X_train[\"dept\"].unique())-1)])\n",
    "\n",
    "#binarize textbookuse\n",
    "lb_ = preprocessing.LabelBinarizer()\n",
    "text_bin_train = pd.DataFrame(lb_.fit_transform(X_train[\"textbookuse\"])[:,:],\n",
    "                    columns=[\"book_%s\"%(i) for i in range(len(X_train[\"textbookuse\"].unique()))])\n",
    "\n",
    "\n",
    "text_bin_test = pd.DataFrame(lb_.transform(X_test[\"textbookuse\"])[:,:],\n",
    "                    columns=[\"book_%s\"%(i) for i in range(len(X_train[\"textbookuse\"].unique()))])\n",
    "\n",
    "#binarize interest\n",
    "lb_ = preprocessing.LabelBinarizer()\n",
    "interest_bin_train = pd.DataFrame(lb_.fit_transform(X_train[\"interest\"])[:,:],\n",
    "                    columns=[\"interest_%s\"%(i) for i in range(len(X_train[\"interest\"].unique()))])\n",
    "interest_bin_test = pd.DataFrame(lb_.transform(X_test[\"interest\"])[:,:],\n",
    "                    columns=[\"interest_%s\"%(i) for i in range(len(X_train[\"interest\"].unique()))])\n",
    "\n",
    "\n",
    "\n",
    "#final\n",
    "X_train = pd.concat((X_train.drop([\"dept\", \"textbookuse\", \"interest\", \"nothelpcount\"], axis=1),\n",
    "                     dept_bin_train,\n",
    "                     text_bin_train,\n",
    "                     interest_bin_train), axis=1) #\n",
    "X_test = pd.concat((X_test.drop([\"dept\",\"textbookuse\", \"interest\", \"nothelpcount\"], axis=1),\n",
    "                    dept_bin_test,\n",
    "                    text_bin_test,\n",
    "                    interest_bin_test), axis=1) #"
   ]
  },
  {
   "cell_type": "code",
   "execution_count": 111,
   "metadata": {
    "collapsed": false
   },
   "outputs": [
    {
     "name": "stdout",
     "output_type": "stream",
     "text": [
      "(92024, 216) (92024,)\n",
      "(25787, 216) (25787,)\n"
     ]
    }
   ],
   "source": [
    "print(X_train.shape, y_train.shape)\n",
    "print(X_test.shape, y_test.shape)"
   ]
  },
  {
   "cell_type": "code",
   "execution_count": 121,
   "metadata": {
    "collapsed": false
   },
   "outputs": [
    {
     "name": "stdout",
     "output_type": "stream",
     "text": [
      "5.13253653095\n",
      "4.32282770039\n"
     ]
    }
   ],
   "source": [
    "linreg = linear_model.LinearRegression()\n",
    "linreg.fit(X_train, y_train)\n",
    "\n",
    "preds_train = linreg.predict(X_train)\n",
    "preds_test = linreg.predict(X_test)\n",
    "\n",
    "print(metrics.mean_squared_error(y_train, preds_train))\n",
    "print(metrics.mean_squared_error(y_test, preds_test))"
   ]
  },
  {
   "cell_type": "code",
   "execution_count": 123,
   "metadata": {
    "collapsed": false
   },
   "outputs": [
    {
     "name": "stdout",
     "output_type": "stream",
     "text": [
      "3.83688519578\n",
      "4.8462469201\n"
     ]
    }
   ],
   "source": [
    "dectree = ensemble.RandomForestRegressor()\n",
    "dectree.fit(X_train, y_train)\n",
    "\n",
    "preds_train = dectree.predict(X_train)\n",
    "preds_test = dectree.predict(X_test)\n",
    "\n",
    "print(metrics.mean_squared_error(y_train, preds_train))\n",
    "print(metrics.mean_squared_error(y_test, preds_test))"
   ]
  },
  {
   "cell_type": "code",
   "execution_count": 124,
   "metadata": {
    "collapsed": false
   },
   "outputs": [],
   "source": [
    "from sklearn.feature_extraction.text import CountVectorizer"
   ]
  },
  {
   "cell_type": "code",
   "execution_count": 125,
   "metadata": {
    "collapsed": false
   },
   "outputs": [],
   "source": [
    "#comments \n",
    "countvec = CountVectorizer(stop_words=\"english\", min_df=80, ngram_range=(1,3))\n",
    "cv_mat_train = countvec.fit_transform(train[\"comments\"])\n",
    "cv_mat_test = countvec.transform(test[\"comments\"])"
   ]
  },
  {
   "cell_type": "code",
   "execution_count": 128,
   "metadata": {
    "collapsed": false
   },
   "outputs": [],
   "source": [
    "X_train_sparse = sp.sparse.hstack((sp.sparse.csr_matrix(np.array(X_train)), cv_mat_train))\n",
    "X_test_sparse = sp.sparse.hstack((sp.sparse.csr_matrix(np.array(X_test)), cv_mat_test))"
   ]
  },
  {
   "cell_type": "code",
   "execution_count": 129,
   "metadata": {
    "collapsed": false
   },
   "outputs": [
    {
     "name": "stdout",
     "output_type": "stream",
     "text": [
      "(92024, 3602)\n",
      "(25787, 3602)\n"
     ]
    }
   ],
   "source": [
    "print(X_train_sparse.shape)\n",
    "print(X_test_sparse.shape)"
   ]
  },
  {
   "cell_type": "code",
   "execution_count": 130,
   "metadata": {
    "collapsed": false
   },
   "outputs": [
    {
     "name": "stdout",
     "output_type": "stream",
     "text": [
      "2.88871964114\n",
      "2.62784838935\n"
     ]
    }
   ],
   "source": [
    "linreg = linear_model.LinearRegression()\n",
    "linreg.fit(X_train_sparse, y_train)\n",
    "\n",
    "preds_train = linreg.predict(X_train_sparse)\n",
    "preds_test = linreg.predict(X_test_sparse)\n",
    "\n",
    "print(metrics.mean_squared_error(y_train, preds_train))\n",
    "print(metrics.mean_squared_error(y_test, preds_test))"
   ]
  },
  {
   "cell_type": "code",
   "execution_count": null,
   "metadata": {
    "collapsed": true
   },
   "outputs": [],
   "source": []
  }
 ],
 "metadata": {
  "anaconda-cloud": {},
  "kernelspec": {
   "display_name": "Python [conda env:impact]",
   "language": "python",
   "name": "conda-env-impact-py"
  },
  "language_info": {
   "codemirror_mode": {
    "name": "ipython",
    "version": 3
   },
   "file_extension": ".py",
   "mimetype": "text/x-python",
   "name": "python",
   "nbconvert_exporter": "python",
   "pygments_lexer": "ipython3",
   "version": "3.6.0"
  }
 },
 "nbformat": 4,
 "nbformat_minor": 1
}
