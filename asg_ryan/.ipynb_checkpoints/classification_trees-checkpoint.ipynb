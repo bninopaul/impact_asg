{
 "cells": [
  {
   "cell_type": "code",
   "execution_count": 1,
   "metadata": {
    "collapsed": true
   },
   "outputs": [],
   "source": [
    "import numpy as np\n",
    "import pandas as pd"
   ]
  },
  {
   "cell_type": "markdown",
   "metadata": {},
   "source": [
    "### Problem 1"
   ]
  },
  {
   "cell_type": "code",
   "execution_count": 2,
   "metadata": {
    "collapsed": true
   },
   "outputs": [],
   "source": [
    "def gini_impurity(y, classes):\n",
    "    percent = np.array([np.mean(y==k) if np.any(y) else 0 for k in classes])\n",
    "    gini = 1 - np.sum(percent**2)\n",
    "    return gini"
   ]
  },
  {
   "cell_type": "code",
   "execution_count": 3,
   "metadata": {
    "collapsed": false
   },
   "outputs": [],
   "source": [
    "#load the titanic dataset\n",
    "data = pd.read_csv(\"titanic.csv\")\n",
    "\n",
    "#preprocessing\n",
    "data.drop([\"Name\", \"Boat\", \"Body\", \"Ticket\", \"Cabin\", \"home.dest\", \"Embarked\"], axis=1, inplace=True)\n",
    "data[\"Sex\"] = [1 if i==\"male\"  else 0 for i in data[\"Sex\"]]\n",
    "data.dropna(inplace=True)\n",
    "data.reset_index(inplace=True, drop=True)\n",
    "\n",
    "X = np.array(data[[\"Pclass\", \"Sex\", \"Age\"]])\n",
    "y = np.array(data[\"Survived\"])"
   ]
  },
  {
   "cell_type": "code",
   "execution_count": 4,
   "metadata": {
    "collapsed": false
   },
   "outputs": [
    {
     "data": {
      "text/plain": [
       "0.48329662782445459"
      ]
     },
     "execution_count": 4,
     "metadata": {},
     "output_type": "execute_result"
    }
   ],
   "source": [
    "#gini impurity\n",
    "gini_impurity(y, np.unique(y))"
   ]
  },
  {
   "cell_type": "markdown",
   "metadata": {},
   "source": [
    "### Problem 2"
   ]
  },
  {
   "cell_type": "code",
   "execution_count": 5,
   "metadata": {
    "collapsed": false
   },
   "outputs": [],
   "source": [
    "#splitting of D to D1 and D2 given the index of the attribute p and value x\n",
    "def split(X, y, p, x, feat_type):\n",
    "    if feat_type==\"categorical\": \n",
    "        Xsplit1, ysplit1 = X[X[:,p]==x], y[X[:,p]==x]\n",
    "        Xsplit2, ysplit2 = X[X[:,p]!=x], y[X[:,p]!=x]\n",
    "    elif feat_type==\"real\":\n",
    "        Xsplit1, ysplit1 = X[X[:,p]<=x], y[X[:,p]<=x]\n",
    "        Xsplit2, ysplit2 = X[X[:,p]>x], y[X[:,p]>x]\n",
    "    else:\n",
    "        raise ValueError(\"Invalid feat_type\")\n",
    "    return (Xsplit1, Xsplit2), (ysplit1, ysplit2)"
   ]
  },
  {
   "cell_type": "code",
   "execution_count": 6,
   "metadata": {
    "collapsed": false
   },
   "outputs": [
    {
     "name": "stdout",
     "output_type": "stream",
     "text": [
      "(443, 3) (443,)\n",
      "(602, 3) (602,)\n"
     ]
    }
   ],
   "source": [
    "#age feature\n",
    "(X1, X2), (y1, y2) = split(X, y, 2, 25, \"real\")\n",
    "print(X1.shape, y1.shape)\n",
    "print(X2.shape, y2.shape)"
   ]
  },
  {
   "cell_type": "code",
   "execution_count": 7,
   "metadata": {
    "collapsed": false
   },
   "outputs": [
    {
     "name": "stdout",
     "output_type": "stream",
     "text": [
      "(657, 3) (657,)\n",
      "(388, 3) (388,)\n"
     ]
    }
   ],
   "source": [
    "#sex feature\n",
    "(X1, X2), (y1, y2) = split(X, y, 1, 1, \"categorical\")\n",
    "print(X1.shape, y1.shape)\n",
    "print(X2.shape, y2.shape)"
   ]
  },
  {
   "cell_type": "code",
   "execution_count": 8,
   "metadata": {
    "collapsed": false
   },
   "outputs": [
    {
     "name": "stdout",
     "output_type": "stream",
     "text": [
      "(284, 3) (284,)\n",
      "(761, 3) (761,)\n"
     ]
    }
   ],
   "source": [
    "#pclass feature \n",
    "(X1, X2), (y1, y2) = split(X, y, 0, 1, \"categorical\")\n",
    "print(X1.shape, y1.shape)\n",
    "print(X2.shape, y2.shape)"
   ]
  },
  {
   "cell_type": "markdown",
   "metadata": {},
   "source": [
    "### Problem 3"
   ]
  },
  {
   "cell_type": "code",
   "execution_count": 9,
   "metadata": {
    "collapsed": true
   },
   "outputs": [],
   "source": [
    "#information gain\n",
    "def info_gain(X, y, p, x, feat_type):\n",
    "    classes = np.unique(y)\n",
    "    #split \n",
    "    Xsplits, ysplits = split(X, y, p, x, feat_type)\n",
    "    score = gini_impurity(y, classes) - np.sum([(len(ysplits[i])/len(y))*gini_impurity(ysplits[i], classes)\n",
    "                                                for i in range(2) if Xsplits[i].any()])\n",
    "    return score"
   ]
  },
  {
   "cell_type": "code",
   "execution_count": 10,
   "metadata": {
    "collapsed": false
   },
   "outputs": [
    {
     "data": {
      "text/plain": [
       "0.13974122753160267"
      ]
     },
     "execution_count": 10,
     "metadata": {},
     "output_type": "execute_result"
    }
   ],
   "source": [
    "#sex feature\n",
    "info_gain(X, y, 1, 1, \"categorical\")"
   ]
  },
  {
   "cell_type": "code",
   "execution_count": 11,
   "metadata": {
    "collapsed": false
   },
   "outputs": [
    {
     "data": {
      "text/plain": [
       "0.00036586757729983876"
      ]
     },
     "execution_count": 11,
     "metadata": {},
     "output_type": "execute_result"
    }
   ],
   "source": [
    "#age feature\n",
    "info_gain(X, y, 2, 25, \"real\")"
   ]
  },
  {
   "cell_type": "code",
   "execution_count": 12,
   "metadata": {
    "collapsed": false
   },
   "outputs": [
    {
     "data": {
      "text/plain": [
       "0.039042686772184365"
      ]
     },
     "execution_count": 12,
     "metadata": {},
     "output_type": "execute_result"
    }
   ],
   "source": [
    "#pclass feature \n",
    "info_gain(X, y, 0, 1, \"categorical\")"
   ]
  },
  {
   "cell_type": "markdown",
   "metadata": {},
   "source": [
    "### Problem 4"
   ]
  },
  {
   "cell_type": "code",
   "execution_count": 13,
   "metadata": {
    "collapsed": true
   },
   "outputs": [],
   "source": [
    "def optimal_split(X, y, feat_type):\n",
    "    #maximize info gain\n",
    "    m,n = X.shape\n",
    "    best_ig = 0 #best info gain (find the maximum)\n",
    "    best_j = 0 #best coordinate point index to create x\n",
    "    best_i = 0 #best attribute index\n",
    "    for i in range(n):\n",
    "        for j in range(m):\n",
    "            x = X[j,i]\n",
    "            (X1, X2), (y1, y2) = split(X, y, i, x, feat_type[i])\n",
    "            ig = info_gain(X, y, i, x, feat_type[i])\n",
    "            if ig>best_ig:# and np.any(X1) and np.any(X2): #make sure X1 and X2 are nonempty\n",
    "                best_ig, best_j, best_i = ig, j, i\n",
    "                \n",
    "    return split(X, y, best_i, X[best_j, best_i], feat_type[best_i]), best_i, X[best_j, best_i]"
   ]
  },
  {
   "cell_type": "code",
   "execution_count": 14,
   "metadata": {
    "collapsed": false
   },
   "outputs": [],
   "source": [
    "feats = [\"categorical\", \"categorical\", \"real\"]\n",
    "((X1, X2), (y1, y2)), attr, xval = optimal_split(X, y, feats)"
   ]
  },
  {
   "cell_type": "code",
   "execution_count": 15,
   "metadata": {
    "collapsed": false
   },
   "outputs": [
    {
     "name": "stdout",
     "output_type": "stream",
     "text": [
      "(388, 3) (388,)\n",
      "(657, 3) (657,)\n"
     ]
    }
   ],
   "source": [
    "print(X1.shape, y1.shape)\n",
    "print(X2.shape, y2.shape)"
   ]
  },
  {
   "cell_type": "markdown",
   "metadata": {},
   "source": [
    "### Problem 5, 6 and 7"
   ]
  },
  {
   "cell_type": "code",
   "execution_count": 16,
   "metadata": {
    "collapsed": false
   },
   "outputs": [],
   "source": [
    "class Node(object):\n",
    "    def __init__(self, X, y, feat_type, cur_depth=1, max_depth=10, tol=0.2):\n",
    "        self.X = X\n",
    "        self.y = y\n",
    "        self.feat_type = feat_type\n",
    "        self.cur_depth = cur_depth\n",
    "        if max_depth<cur_depth:\n",
    "            raise ValueError(\"Maximum depth should be greater than current_depth\")\n",
    "        self.max_depth = max_depth\n",
    "        self.tol = tol\n",
    "        \n",
    "        ((X1, X2), (y1, y2)), attr, xval = optimal_split(self.X, self.y,\n",
    "                                                         self.feat_type)\n",
    "        self.attr = attr\n",
    "        self.xval = xval\n",
    "        classes = np.sort(np.unique(y))\n",
    "        gin_imp1 = gini_impurity(y1, classes)\n",
    "        gin_imp2 = gini_impurity(y2, classes)\n",
    "        \n",
    "        if  ((self.cur_depth == self.max_depth) |\\\n",
    "                (gin_imp1<tol) | (gin_imp2<tol)| (not np.any(X1)) | (not np.any(X2))):\n",
    "            self.asg_label = np.argmax([np.sum(y==i) for i in classes])\n",
    "        else:\n",
    "            self.leftchild = Node(X1, y1, self.feat_type, cur_depth=self.cur_depth+1,\n",
    "                                  max_depth=self.max_depth, tol=self.tol)\n",
    "            self.rightchild = Node(X2, y2, self.feat_type, cur_depth=self.cur_depth+1,\n",
    "                                   max_depth=self.max_depth, tol=self.tol)\n",
    "    def print_tree(self):\n",
    "        \n",
    "        print(\"==\"*(self.cur_depth-1)+\">\"+\"Attr:{}, Xval:{}\".format(self.attr, self.xval))\n",
    "        \n",
    "        if not hasattr(self, \"asg_label\"):\n",
    "            self.leftchild.print_tree()\n",
    "            self.rightchild.print_tree()\n",
    "        else:\n",
    "            print(\"==\"*self.cur_depth+\">\"+\"Decision: Assigned label:{}\".format(self.asg_label))\n",
    "        \n",
    "        \n",
    "    def predict(self, x):\n",
    "        if hasattr(self, \"asg_label\"):\n",
    "            return self.asg_label\n",
    "        else:\n",
    "            if self.feat_type[self.attr]==\"categorical\":\n",
    "                if x[self.attr]==self.xval:\n",
    "                    return self.leftchild.predict(x)\n",
    "                else:\n",
    "                    return self.rightchild.predict(x)\n",
    "            elif self.feat_type[self.attr]==\"real\":\n",
    "                if x[self.attr]<=self.xval:\n",
    "                    return self.leftchild.predict(x)\n",
    "                else:\n",
    "                    return self.rightchild.predict(x)"
   ]
  },
  {
   "cell_type": "markdown",
   "metadata": {},
   "source": [
    "### Problem 8"
   ]
  },
  {
   "cell_type": "code",
   "execution_count": 17,
   "metadata": {
    "collapsed": false
   },
   "outputs": [
    {
     "name": "stdout",
     "output_type": "stream",
     "text": [
      "(627, 3) (627,)\n",
      "(571, 3) (571,)\n"
     ]
    }
   ],
   "source": [
    "train_ind = np.random.choice(np.arange(len(X)), size=int(0.6*len(X)))\n",
    "test_ind = np.array([i for i in np.arange(len(X)) if i not in train_ind ])\n",
    "\n",
    "Xtrain, ytrain, Xtest, ytest = X[train_ind], y[train_ind], X[test_ind], y[test_ind]\n",
    "print(Xtrain.shape, ytrain.shape)\n",
    "print(Xtest.shape, ytest.shape)"
   ]
  },
  {
   "cell_type": "code",
   "execution_count": 18,
   "metadata": {
    "collapsed": false
   },
   "outputs": [],
   "source": [
    "#evaluate the model's classification error rate for increasing values of depth m\n",
    "train_error = []\n",
    "test_error = []\n",
    "ms = np.arange(1,25) #depths\n",
    "for m in ms:\n",
    "    tree = Node(Xtrain, ytrain, feats, max_depth=m, tol=0.1)\n",
    "    train_preds = np.array([tree.predict(x) for x in Xtrain])\n",
    "    test_preds = np.array([tree.predict(x) for x in Xtest])\n",
    "    train_acc = np.mean(train_preds==ytrain)\n",
    "    test_acc = np.mean(test_preds==ytest)\n",
    "    train_error.append(1-train_acc)\n",
    "    test_error.append(1-test_acc)"
   ]
  },
  {
   "cell_type": "code",
   "execution_count": 19,
   "metadata": {
    "collapsed": false
   },
   "outputs": [
    {
     "data": {
      "image/png": "[encoded data removed]",
      "text/plain": [
       "<matplotlib.figure.Figure at 0x11439f940>"
      ]
     },
     "metadata": {},
     "output_type": "display_data"
    }
   ],
   "source": [
    "import matplotlib.pyplot as plt\n",
    "plt.figure(figsize=(10, 5))\n",
    "plt.plot(ms, train_error, label=\"Training Error\")\n",
    "plt.plot(ms, test_error, label=\"Test Error\")\n",
    "plt.legend()\n",
    "plt.show()"
   ]
  },
  {
   "cell_type": "code",
   "execution_count": 20,
   "metadata": {
    "collapsed": false
   },
   "outputs": [
    {
     "name": "stdout",
     "output_type": "stream",
     "text": [
      ">Attr:1, Xval:0.0\n",
      "==>Attr:0, Xval:3.0\n",
      "====>Attr:2, Xval:36.0\n",
      "======>Attr:2, Xval:11.0\n",
      "========>Attr:2, Xval:1.0\n",
      "==========>Decision: Assigned label:0\n",
      "========>Attr:2, Xval:19.0\n",
      "==========>Attr:2, Xval:18.0\n",
      "============>Decision: Assigned label:1\n",
      "==========>Attr:2, Xval:22.0\n",
      "============>Attr:0, Xval:3.0\n",
      "==============>Decision: Assigned label:0\n",
      "============>Attr:2, Xval:35.0\n",
      "==============>Decision: Assigned label:1\n",
      "======>Attr:2, Xval:45.0\n",
      "========>Attr:0, Xval:3.0\n",
      "==========>Decision: Assigned label:0\n",
      "========>Attr:0, Xval:3.0\n",
      "==========>Decision: Assigned label:0\n",
      "====>Attr:2, Xval:2.0\n",
      "======>Decision: Assigned label:1\n",
      "==>Attr:2, Xval:9.0\n",
      "====>Attr:0, Xval:3.0\n",
      "======>Decision: Assigned label:1\n",
      "====>Attr:0, Xval:1.0\n",
      "======>Attr:2, Xval:45.0\n",
      "========>Attr:2, Xval:42.0\n",
      "==========>Attr:2, Xval:33.0\n",
      "============>Attr:2, Xval:25.0\n",
      "==============>Attr:2, Xval:24.0\n",
      "================>Decision: Assigned label:0\n",
      "==============>Attr:0, Xval:1.0\n",
      "================>Decision: Assigned label:0\n",
      "============>Attr:2, Xval:36.0\n",
      "==============>Attr:2, Xval:35.0\n",
      "================>Decision: Assigned label:1\n",
      "==============>Attr:2, Xval:39.0\n",
      "================>Attr:0, Xval:1.0\n",
      "==================>Decision: Assigned label:0\n",
      "================>Attr:2, Xval:40.0\n",
      "==================>Decision: Assigned label:0\n",
      "==========>Attr:0, Xval:1.0\n",
      "============>Decision: Assigned label:1\n",
      "========>Attr:2, Xval:53.0\n",
      "==========>Attr:2, Xval:51.0\n",
      "============>Decision: Assigned label:0\n",
      "==========>Attr:0, Xval:1.0\n",
      "============>Decision: Assigned label:0\n",
      "======>Attr:2, Xval:19.0\n",
      "========>Decision: Assigned label:0\n"
     ]
    }
   ],
   "source": [
    "#show an example of tree structure\n",
    "tree = Node(Xtrain, ytrain, feats, tol=0.1)\n",
    "tree.print_tree()"
   ]
  },
  {
   "cell_type": "code",
   "execution_count": null,
   "metadata": {
    "collapsed": true
   },
   "outputs": [],
   "source": []
  }
 ],
 "metadata": {
  "anaconda-cloud": {},
  "kernelspec": {
   "display_name": "Python [conda env:impact]",
   "language": "python",
   "name": "conda-env-impact-py"
  },
  "language_info": {
   "codemirror_mode": {
    "name": "ipython",
    "version": 3
   },
   "file_extension": ".py",
   "mimetype": "text/x-python",
   "name": "python",
   "nbconvert_exporter": "python",
   "pygments_lexer": "ipython3",
   "version": "3.6.0"
  }
 },
 "nbformat": 4,
 "nbformat_minor": 1
}
