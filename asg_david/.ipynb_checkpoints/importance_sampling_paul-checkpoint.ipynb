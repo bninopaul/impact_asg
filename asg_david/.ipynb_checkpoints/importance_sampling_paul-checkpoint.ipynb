{
 "cells": [
  {
   "cell_type": "code",
   "execution_count": 1,
   "metadata": {
    "collapsed": true
   },
   "outputs": [],
   "source": [
    "import numpy as np\n",
    "import sympy as sy\n",
    "import scipy.stats as stats\n",
    "import matplotlib.pyplot as plt"
   ]
  },
  {
   "cell_type": "markdown",
   "metadata": {},
   "source": [
    "### Problem 1"
   ]
  },
  {
   "cell_type": "code",
   "execution_count": 2,
   "metadata": {
    "collapsed": true
   },
   "outputs": [],
   "source": [
    "def prob1(n):\n",
    "    \"\"\"Approximate the probability that a random draw from the standard\n",
    "    normal distribution will be greater than 3.\"\"\"\n",
    "    xs = np.random.normal(size=n)\n",
    "    return np.mean(xs>3)"
   ]
  },
  {
   "cell_type": "code",
   "execution_count": 3,
   "metadata": {
    "collapsed": false
   },
   "outputs": [
    {
     "data": {
      "text/plain": [
       "0.0013499"
      ]
     },
     "execution_count": 3,
     "metadata": {},
     "output_type": "execute_result"
    }
   ],
   "source": [
    "n = 10**7\n",
    "prob1(n)"
   ]
  },
  {
   "cell_type": "markdown",
   "metadata": {},
   "source": [
    "### Problem 2"
   ]
  },
  {
   "cell_type": "code",
   "execution_count": 4,
   "metadata": {
    "collapsed": false
   },
   "outputs": [],
   "source": [
    "def prob2():\n",
    "    \"\"\"Answer the following question using importance sampling:\n",
    "            A tech support hotline receives an average of 2 calls per\n",
    "            minute. What is the probability that they will have to wait\n",
    "            at least 10 minutes to receive 9 calls?\n",
    "    Returns:\n",
    "        IS (array) - an array of estimates using\n",
    "            [5000, 10000, 15000, ..., 500000] as number of\n",
    "            sample points.\"\"\"\n",
    "    \n",
    "    theta = .5 #2 calls per minute\n",
    "    shape = 9\n",
    "    trueval = 1 - stats.gamma(a=9,scale=0.5).cdf(10)\n",
    "\n",
    "    h = lambda x: x>=10\n",
    "    f = lambda x: stats.gamma(shape, scale=theta).pdf(x)\n",
    "    g = lambda x: stats.gamma(shape).pdf(x) #suppose importance dist is also gamma\n",
    "    \n",
    "    ns = np.arange(5, 505, 5)*1000\n",
    "    IS = []\n",
    "    for n in ns:\n",
    "        Y = np.random.gamma(shape, size=n)\n",
    "        IS.append(1/n*np.sum(h(Y)*f(Y)/g(Y)))\n",
    "    return np.array(IS)"
   ]
  },
  {
   "cell_type": "code",
   "execution_count": 5,
   "metadata": {
    "collapsed": false
   },
   "outputs": [],
   "source": [
    "is_estimates = prob2()"
   ]
  },
  {
   "cell_type": "code",
   "execution_count": 6,
   "metadata": {
    "collapsed": false
   },
   "outputs": [
    {
     "data": {
      "text/plain": [
       "array([ 0.00206892,  0.00209671,  0.00213629,  0.00207402,  0.00215796,\n",
       "        0.002084  ,  0.00209164,  0.00206511,  0.00207806,  0.00210163,\n",
       "        0.00207251,  0.00208259,  0.00208685,  0.00209305,  0.00209873,\n",
       "        0.00209685,  0.00206782,  0.00208254,  0.00209364,  0.00207211,\n",
       "        0.00207933,  0.00209856,  0.00207059,  0.00209679,  0.00209645,\n",
       "        0.00210459,  0.00205933,  0.00207512,  0.00209661,  0.00208998,\n",
       "        0.00208345,  0.0021021 ,  0.002096  ,  0.00209096,  0.00209414,\n",
       "        0.0020878 ,  0.00207773,  0.0020901 ,  0.00207808,  0.00209624,\n",
       "        0.00210461,  0.00207269,  0.00207532,  0.00207279,  0.00209733,\n",
       "        0.00208786,  0.0020828 ,  0.00210273,  0.00208984,  0.00207571,\n",
       "        0.00209487,  0.00210051,  0.00207964,  0.00208761,  0.00208169,\n",
       "        0.00209736,  0.00208987,  0.00206969,  0.0020863 ,  0.00209226,\n",
       "        0.00209426,  0.00207822,  0.00208912,  0.00209834,  0.00208975,\n",
       "        0.00209079,  0.00208168,  0.00209175,  0.00208997,  0.00208224,\n",
       "        0.00210004,  0.00208506,  0.00210039,  0.00208719,  0.00209078,\n",
       "        0.00209325,  0.00208429,  0.00208472,  0.00209733,  0.0020901 ,\n",
       "        0.00208162,  0.00208215,  0.00208096,  0.00208679,  0.00208215,\n",
       "        0.00209009,  0.00208913,  0.00210005,  0.00209255,  0.00209066,\n",
       "        0.00209692,  0.0020838 ,  0.00208536,  0.00208884,  0.00209407,\n",
       "        0.00208783,  0.00208711,  0.00208607,  0.0020861 ,  0.00208316])"
      ]
     },
     "execution_count": 6,
     "metadata": {},
     "output_type": "execute_result"
    }
   ],
   "source": [
    "is_estimates"
   ]
  },
  {
   "cell_type": "markdown",
   "metadata": {},
   "source": [
    "### Problem 3"
   ]
  },
  {
   "cell_type": "code",
   "execution_count": 7,
   "metadata": {
    "collapsed": false
   },
   "outputs": [],
   "source": [
    "def prob3():\n",
    "    \"\"\"Plot the errors of Monte Carlo Simulation vs Importance Sampling\n",
    "    for the prob2().\"\"\"\n",
    "    #raise NotImplementedError(\"Problem 3 Incomplete\")\n",
    "    theta = .5 #2 calls per minute\n",
    "    shape = 9\n",
    "    trueval = 1 - stats.gamma(a=shape,scale=theta).cdf(10)\n",
    "\n",
    "    h = lambda x: x>=10\n",
    "    f = lambda x: stats.gamma(shape, scale=theta).pdf(x)\n",
    "    g = lambda x: stats.gamma(shape).pdf(x) #suppose importance dist is also gamma\n",
    "    \n",
    "    ns = np.arange(5, 505, 5)*1000\n",
    "    IS = []\n",
    "    is_errors = []\n",
    "    mc_errors = []\n",
    "    for n in ns:\n",
    "        #monte carlo estimate\n",
    "        X = np.random.gamma(shape, scale=theta, size=n)\n",
    "        mc_estimate = 1./n*np.sum(h(X))\n",
    "        mc_errors.append(np.abs(mc_estimate - trueval)/trueval)\n",
    "        \n",
    "        #importance sampling estimate\n",
    "        Y = np.random.gamma(shape, size=n)\n",
    "        is_estimate = 1./n*np.sum(h(Y)*(f(Y)/g(Y)))\n",
    "        is_errors.append(np.abs(is_estimate - trueval)/trueval)\n",
    "        \n",
    "        \n",
    "        \n",
    "    plt.figure(figsize=(10,4))\n",
    "    plt.plot(ns, mc_errors, 'r', label='Monte Carlo')\n",
    "    plt.plot(ns, is_errors, 'b', label=\"Importance Sampling\")\n",
    "    plt.legend()\n",
    "    plt.title(\"Error of Estimations\")\n",
    "    plt.xlabel(\"Number of Sample Points\")\n",
    "    plt.show()"
   ]
  },
  {
   "cell_type": "code",
   "execution_count": 8,
   "metadata": {
    "collapsed": false
   },
   "outputs": [
    {
     "data": {
      "image/png": "[encoded data removed]",
      "text/plain": [
       "<matplotlib.figure.Figure at 0x1102b1438>"
      ]
     },
     "metadata": {},
     "output_type": "display_data"
    }
   ],
   "source": [
    "prob3()"
   ]
  },
  {
   "cell_type": "markdown",
   "metadata": {},
   "source": [
    "### Problem 4"
   ]
  },
  {
   "cell_type": "code",
   "execution_count": 9,
   "metadata": {
    "collapsed": true
   },
   "outputs": [],
   "source": [
    "def prob4():\n",
    "    \"\"\"Approximate the probability that a random draw from the\n",
    "    multivariate standard normal distribution will be less than -1 in\n",
    "    the x-direction and greater than 1 in the y-direction.\"\"\"\n",
    "    n = 5000000\n",
    "    h = lambda x: (x[:,0]<-1) & (x[:,1]>1)\n",
    "    f = lambda x: stats.multivariate_normal.pdf(x, mean=np.zeros(2), cov = np.eye(2))\n",
    "    g = lambda x: stats.multivariate_normal(mean=np.array([0, 0]), cov = np.eye(2)).pdf(x) #importance distribution in (0,0)\n",
    "    Y = np.random.multivariate_normal(mean=np.array([0, 0]), cov=np.eye(2), size=n)\n",
    "    return np.mean(h(Y)*f(Y)/g(Y))"
   ]
  },
  {
   "cell_type": "code",
   "execution_count": 10,
   "metadata": {
    "collapsed": false
   },
   "outputs": [
    {
     "data": {
      "text/plain": [
       "0.025221"
      ]
     },
     "execution_count": 10,
     "metadata": {},
     "output_type": "execute_result"
    }
   ],
   "source": [
    "prob4()"
   ]
  }
 ],
 "metadata": {
  "anaconda-cloud": {},
  "kernelspec": {
   "display_name": "Python [conda env:impact]",
   "language": "python",
   "name": "conda-env-impact-py"
  },
  "language_info": {
   "codemirror_mode": {
    "name": "ipython",
    "version": 3
   },
   "file_extension": ".py",
   "mimetype": "text/x-python",
   "name": "python",
   "nbconvert_exporter": "python",
   "pygments_lexer": "ipython3",
   "version": "3.6.0"
  }
 },
 "nbformat": 4,
 "nbformat_minor": 1
}
