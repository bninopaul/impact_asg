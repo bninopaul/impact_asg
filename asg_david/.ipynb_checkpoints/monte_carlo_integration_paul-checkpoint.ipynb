{
 "cells": [
  {
   "cell_type": "code",
   "execution_count": 1,
   "metadata": {
    "collapsed": true
   },
   "outputs": [],
   "source": [
    "import numpy as np\n",
    "import sympy as sy\n",
    "import scipy.stats as stats\n",
    "import matplotlib.pyplot as plt"
   ]
  },
  {
   "cell_type": "markdown",
   "metadata": {},
   "source": [
    "### Problem 1"
   ]
  },
  {
   "cell_type": "code",
   "execution_count": 2,
   "metadata": {
    "collapsed": true
   },
   "outputs": [],
   "source": [
    "def prob1(N=10000):\n",
    "    \"\"\"Return an estimate of the volume of the unit sphere using Monte\n",
    "    Carlo Integration.\n",
    "\n",
    "    Input:\n",
    "        N (int, optional) - The number of points to sample. Defaults\n",
    "            to 10000.\n",
    "\n",
    "    \"\"\"\n",
    "    points = np.random.rand(3,N)\n",
    "    points = points*2 -1 #rescale it \n",
    "    distance = np.linalg.norm(points, axis=0)\n",
    "    counts = np.sum(distance<=1)\n",
    "    return (2**3)*counts/N"
   ]
  },
  {
   "cell_type": "code",
   "execution_count": 3,
   "metadata": {
    "collapsed": false
   },
   "outputs": [
    {
     "name": "stdout",
     "output_type": "stream",
     "text": [
      "Estimate 4.163200 | True Value 4.188790:\n",
      "Error: 0.0255902047864\n"
     ]
    }
   ],
   "source": [
    "est_vol = prob1()\n",
    "print(\"Estimate %f | True Value %f:\"%(est_vol, (4*np.pi/3)))\n",
    "print(\"Error:\", (4*np.pi/3) -est_vol)\n"
   ]
  },
  {
   "cell_type": "markdown",
   "metadata": {},
   "source": [
    "### Problem 2"
   ]
  },
  {
   "cell_type": "code",
   "execution_count": 4,
   "metadata": {
    "collapsed": true
   },
   "outputs": [],
   "source": [
    "def prob2(f, a, b, N=10000):\n",
    "    \"\"\"Use Monte-Carlo integration to approximate the integral of\n",
    "    1-D function f on the interval [a,b].\n",
    "\n",
    "    Inputs:\n",
    "        f (function) - Function to integrate. Should take scalar input.\n",
    "        a (float) - Left-hand side of interval.\n",
    "        b (float) - Right-hand side of interval.\n",
    "        N (int, optional) - The number of points to sample in\n",
    "            the Monte-Carlo method. Defaults to 10000.\n",
    "\n",
    "    Returns:\n",
    "        estimate (float) - The result of the Monte-Carlo algorithm.\n",
    "\n",
    "    Example:\n",
    "        >>> f = lambda x: x**2\n",
    "        >>> # Integral from 0 to 1. True value is 1/3.\n",
    "        >>> prob2(f, 0, 1)\n",
    "        0.3333057231764805\n",
    "    \"\"\"\n",
    "    length = np.abs(a-b) #volume since 1d\n",
    "    points = np.random.uniform(a, b, size = N)\n",
    "    mean_image = np.mean(f(points))\n",
    "    estimate = mean_image*length\n",
    "    return estimate"
   ]
  },
  {
   "cell_type": "code",
   "execution_count": 5,
   "metadata": {
    "collapsed": false
   },
   "outputs": [
    {
     "data": {
      "text/plain": [
       "0.33687669136275372"
      ]
     },
     "execution_count": 5,
     "metadata": {},
     "output_type": "execute_result"
    }
   ],
   "source": [
    "f = lambda x: x**2\n",
    "a,b = [0,1]\n",
    "prob2(f, a, b)"
   ]
  },
  {
   "cell_type": "code",
   "execution_count": 6,
   "metadata": {
    "collapsed": false
   },
   "outputs": [
    {
     "data": {
      "text/plain": [
       "0.333333333333333"
      ]
     },
     "execution_count": 6,
     "metadata": {},
     "output_type": "execute_result"
    }
   ],
   "source": [
    "#check with sympy\n",
    "x = sy.symbols(\"x\")\n",
    "expr = x**2\n",
    "sy.integrate(expr, (x,0,1)).evalf()"
   ]
  },
  {
   "cell_type": "markdown",
   "metadata": {},
   "source": [
    "### Problem 3"
   ]
  },
  {
   "cell_type": "code",
   "execution_count": 7,
   "metadata": {
    "collapsed": true
   },
   "outputs": [],
   "source": [
    "def prob3(f, mins, maxs, N=10000):\n",
    "    \"\"\"Use Monte-Carlo integration to approximate the integral of f\n",
    "    on the box defined by mins and maxs.\n",
    "\n",
    "    Inputs:\n",
    "        f (function) - The function to integrate. This function should\n",
    "            accept a 1-D NumPy array as input.\n",
    "        mins (1-D np.ndarray) - Minimum bounds on integration.\n",
    "        maxs (1-D np.ndarray) - Maximum bounds on integration.\n",
    "        N (int, optional) - The number of points to sample in\n",
    "            the Monte-Carlo method. Defaults to 10000.\n",
    "\n",
    "    Returns:\n",
    "        estimate (float) - The result of the Monte-Carlo algorithm.\n",
    "\n",
    "    Example:\n",
    "        >>> f = lambda x: np.hypot(x[0], x[1]) <= 1\n",
    "        >>> # Integral over the square [-1,1] x [-1,1]. True value is pi.\n",
    "        >>> mc_int(f, np.array([-1,-1]), np.array([1,1]))\n",
    "        3.1290400000000007\n",
    "    \"\"\"\n",
    "    interval = np.column_stack((mins, maxs))\n",
    "    points = np.random.rand(len(interval), N)\n",
    "    points = points*np.diff(interval, axis=1) + np.min(interval, axis=1, keepdims=True) #rescale\n",
    "    range_ = np.apply_along_axis(f, 0, points)\n",
    "    mean_ = np.mean(range_)\n",
    "    estimate = mean_*np.product(np.abs(np.diff(interval, axis=1)))\n",
    "    return estimate"
   ]
  },
  {
   "cell_type": "code",
   "execution_count": 8,
   "metadata": {
    "collapsed": false
   },
   "outputs": [
    {
     "data": {
      "text/plain": [
       "3.1492"
      ]
     },
     "execution_count": 8,
     "metadata": {},
     "output_type": "execute_result"
    }
   ],
   "source": [
    "#test the funcction using the example\n",
    "mins = [-1, -1]\n",
    "maxs = [1, 1]\n",
    "f = lambda x: np.hypot(x[0], x[1]) <= 1\n",
    "prob3(f, mins, maxs)"
   ]
  },
  {
   "cell_type": "markdown",
   "metadata": {},
   "source": [
    "### Problem 4"
   ]
  },
  {
   "cell_type": "code",
   "execution_count": 9,
   "metadata": {
    "collapsed": true
   },
   "outputs": [],
   "source": [
    "def prob4():\n",
    "    \"\"\"Integrate the joint normal distribution.\n",
    "\n",
    "    Return your Monte Carlo estimate, SciPy's answer, and (assuming SciPy is\n",
    "    correct) the relative error of your Monte Carlo estimate.\n",
    "    \"\"\"\n",
    "    #NotImplementedError(\"Problem 4 Incomplete\")\n",
    "    f = lambda x: np.exp(-np.dot(x,x)/2)/(np.sqrt(2*np.pi)**len(x))\n",
    "    mins = np.array([-1.5,  0.,  0.,  0.])\n",
    "    maxs = np.array([0.75,  1.,  0.5,  1.])\n",
    "    return prob3(f, mins, maxs)\n"
   ]
  },
  {
   "cell_type": "code",
   "execution_count": 10,
   "metadata": {
    "collapsed": false
   },
   "outputs": [
    {
     "data": {
      "text/plain": [
       "0.015844257444891697"
      ]
     },
     "execution_count": 10,
     "metadata": {},
     "output_type": "execute_result"
    }
   ],
   "source": [
    "prob4()"
   ]
  },
  {
   "cell_type": "code",
   "execution_count": 11,
   "metadata": {
    "collapsed": false
   },
   "outputs": [
    {
     "data": {
      "text/plain": [
       "0.015762404844861223"
      ]
     },
     "execution_count": 11,
     "metadata": {},
     "output_type": "execute_result"
    }
   ],
   "source": [
    "#check using scipy.stats\n",
    "mins = np.array([-1.5, 0, 0, 0])\n",
    "maxs = np.array([0.75, 1, 0.5, 1])\n",
    "\n",
    "means = np.zeros(4)\n",
    "covs = np.eye(4)\n",
    "value, inform = stats.mvn.mvnun(mins, maxs, means, covs)\n",
    "value"
   ]
  },
  {
   "cell_type": "markdown",
   "metadata": {},
   "source": [
    "### Problem 5"
   ]
  },
  {
   "cell_type": "code",
   "execution_count": 14,
   "metadata": {
    "collapsed": true
   },
   "outputs": [],
   "source": [
    "def prob5(numEstimates=50):\n",
    "    \"\"\"Plot the error of Monte Carlo Integration.\"\"\"\n",
    "    Ns = np.append(np.array([50, 100, 500]), np.arange(1,51)*1000)\n",
    "    true_vol = (4*np.pi/3)\n",
    "    errors_N = []\n",
    "    for N in Ns:\n",
    "        errors = []\n",
    "        for i in range(numEstimates):\n",
    "            vol = prob1(N=N)\n",
    "            errors.append(np.abs(vol-true_vol)/true_vol)\n",
    "        errors_N.append(np.mean(errors))\n",
    "        \n",
    "    plt.figure(figsize=(10, 8))\n",
    "    plt.plot(Ns, errors_N, label=\"Error\")\n",
    "    plt.plot(Ns, 1/np.sqrt(Ns), 'r--', label=\"1/$\\sqrt{N}$\")\n",
    "    plt.legend()\n",
    "    plt.show()"
   ]
  },
  {
   "cell_type": "code",
   "execution_count": 15,
   "metadata": {
    "collapsed": false
   },
   "outputs": [
    {
     "data": {
      "image/png": "[encoded data removed]",
      "text/plain": [
       "<matplotlib.figure.Figure at 0x11625f320>"
      ]
     },
     "metadata": {},
     "output_type": "display_data"
    }
   ],
   "source": [
    "prob5()"
   ]
  },
  {
   "cell_type": "code",
   "execution_count": null,
   "metadata": {
    "collapsed": true
   },
   "outputs": [],
   "source": []
  }
 ],
 "metadata": {
  "anaconda-cloud": {},
  "kernelspec": {
   "display_name": "Python [conda env:impact]",
   "language": "python",
   "name": "conda-env-impact-py"
  },
  "language_info": {
   "codemirror_mode": {
    "name": "ipython",
    "version": 3
   },
   "file_extension": ".py",
   "mimetype": "text/x-python",
   "name": "python",
   "nbconvert_exporter": "python",
   "pygments_lexer": "ipython3",
   "version": "3.6.0"
  }
 },
 "nbformat": 4,
 "nbformat_minor": 1
}
