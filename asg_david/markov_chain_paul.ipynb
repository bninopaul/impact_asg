{
 "cells": [
  {
   "cell_type": "code",
   "execution_count": 1,
   "metadata": {
    "collapsed": true
   },
   "outputs": [],
   "source": [
    "import numpy as np\n",
    "import sympy as sy\n",
    "import scipy.stats as stats\n",
    "import matplotlib.pyplot as plt"
   ]
  },
  {
   "cell_type": "markdown",
   "metadata": {},
   "source": [
    "### Problem 1"
   ]
  },
  {
   "cell_type": "code",
   "execution_count": 2,
   "metadata": {
    "collapsed": true
   },
   "outputs": [],
   "source": [
    "def random_markov(n):\n",
    "    \"\"\"Create and return a transition matrix for a random Markov chain with\n",
    "    'n' states. This should be stored as an nxn NumPy array.\n",
    "    \"\"\"\n",
    "    rm = np.random.random(size=(n,n))\n",
    "    rm /= np.sum(rm, axis=0, keepdims=1)\n",
    "    return rm"
   ]
  },
  {
   "cell_type": "code",
   "execution_count": 3,
   "metadata": {
    "collapsed": false
   },
   "outputs": [
    {
     "data": {
      "text/plain": [
       "array([[ 0.50663321,  0.58630077,  0.20990583],\n",
       "       [ 0.40803823,  0.25365826,  0.47012448],\n",
       "       [ 0.08532856,  0.16004097,  0.3199697 ]])"
      ]
     },
     "execution_count": 3,
     "metadata": {},
     "output_type": "execute_result"
    }
   ],
   "source": [
    "rand_transmat = random_markov(3)\n",
    "rand_transmat"
   ]
  },
  {
   "cell_type": "code",
   "execution_count": 4,
   "metadata": {
    "collapsed": false
   },
   "outputs": [
    {
     "data": {
      "text/plain": [
       "array([ 1.,  1.,  1.])"
      ]
     },
     "execution_count": 4,
     "metadata": {},
     "output_type": "execute_result"
    }
   ],
   "source": [
    "#check if column-stochastic\n",
    "np.sum(rand_transmat, axis=0)"
   ]
  },
  {
   "cell_type": "markdown",
   "metadata": {},
   "source": [
    "### Problem 2"
   ]
  },
  {
   "cell_type": "code",
   "execution_count": 5,
   "metadata": {
    "collapsed": true
   },
   "outputs": [],
   "source": [
    "# Problem 2\n",
    "def forecast(days):\n",
    "    \"\"\"Forecast weather in days days given that today is hot.\"\"\"\n",
    "    transition = np.array([[0.7, 0.6], [0.3, 0.4]])\n",
    "\n",
    "    # Sample from a binomial distribution to choose a new state.\n",
    "    current_ind = 0\n",
    "    preds = []\n",
    "    #we evaluate if the draw will result to a succesful transition of states\n",
    "    for i in range(days):\n",
    "        outcome = np.random.binomial(1, transition[abs(current_ind-1),current_ind])\n",
    "        if outcome: #meaning succesful in transitioning to another state\n",
    "            current_ind = abs(current_ind-1)\n",
    "        preds.append(current_ind)\n",
    "    return np.array(preds)"
   ]
  },
  {
   "cell_type": "code",
   "execution_count": 6,
   "metadata": {
    "collapsed": false
   },
   "outputs": [
    {
     "data": {
      "text/plain": [
       "array([0, 1, 0, 1, 1, 1, 1, 1, 0, 1, 1, 0, 1, 1, 1, 1, 1, 0, 0, 0])"
      ]
     },
     "execution_count": 6,
     "metadata": {},
     "output_type": "execute_result"
    }
   ],
   "source": [
    "#predict the weather in 20 days\n",
    "forecast(20)"
   ]
  },
  {
   "cell_type": "markdown",
   "metadata": {},
   "source": [
    "### Problem 3"
   ]
  },
  {
   "cell_type": "code",
   "execution_count": 7,
   "metadata": {
    "collapsed": true
   },
   "outputs": [],
   "source": [
    "def four_state_forecast(days):\n",
    "    \"\"\"Run a simulation for the weather over the specified number of days,\n",
    "    with mild as the starting state, using the four-state Markov chain.\n",
    "    Return a list containing the day-by-day results, not including the\n",
    "    starting day.\n",
    "\n",
    "    Examples:\n",
    "        >>> four_state_forecast(3)\n",
    "        [0, 1, 3]\n",
    "        >>> four_state_forecast(5)\n",
    "        [2, 1, 2, 1, 1]\n",
    "    \"\"\"\n",
    "    transmat = np.array([[0.5, 0.3, 0.1, 0.0],\n",
    "                         [0.3, 0.3, 0.3, 0.3],\n",
    "                         [0.2, 0.3, 0.4, 0.5],\n",
    "                         [0.0, 0.1, 0.2, 0.2]])\n",
    "    preds = []\n",
    "    today = 1 #mild - initial weather\n",
    "    for i in range(days):\n",
    "        today = np.argmax(np.random.multinomial(1, transmat[:,today]))  \n",
    "        preds.append(today)\n",
    "    return np.array(preds)"
   ]
  },
  {
   "cell_type": "code",
   "execution_count": 8,
   "metadata": {
    "collapsed": false
   },
   "outputs": [
    {
     "data": {
      "text/plain": [
       "array([0, 1, 0, 1, 2, 2, 1, 1, 3, 3, 1, 1, 3, 3, 1, 1, 1, 2, 2, 0])"
      ]
     },
     "execution_count": 8,
     "metadata": {},
     "output_type": "execute_result"
    }
   ],
   "source": [
    "four_state_forecast(20)"
   ]
  },
  {
   "cell_type": "markdown",
   "metadata": {},
   "source": [
    "### Problem 4"
   ]
  },
  {
   "cell_type": "code",
   "execution_count": 9,
   "metadata": {
    "collapsed": false
   },
   "outputs": [],
   "source": [
    "def steady_state(A, tol=1e-12, N=40):\n",
    "    \"\"\"Compute the steady state of the transition matrix A.\n",
    "\n",
    "    Inputs:\n",
    "        A ((n,n) ndarray): A column-stochastic transition matrix.\n",
    "        tol (float): The convergence tolerance.\n",
    "        N (int): The maximum number of iterations to compute.\n",
    "\n",
    "    Raises:\n",
    "        ValueError: if the iteration does not converge within N steps.\n",
    "\n",
    "    Returns:\n",
    "        x ((n,) ndarray): The steady state distribution vector of A.\n",
    "    \"\"\"\n",
    "    x0 = np.random.random(len(A))\n",
    "    x0 /=np.sum(x0)\n",
    "    for i in range(1,N+1):\n",
    "        x1 = np.dot(A, x0)\n",
    "        if np.linalg.norm(x1 - x0)<tol:\n",
    "            return x1\n",
    "        x0 = x1\n",
    "    raise ValueError(\"A^k does not converge given N iterations\")"
   ]
  },
  {
   "cell_type": "code",
   "execution_count": 10,
   "metadata": {
    "collapsed": false
   },
   "outputs": [
    {
     "data": {
      "text/plain": [
       "array([ 0.66666667,  0.33333333])"
      ]
     },
     "execution_count": 10,
     "metadata": {},
     "output_type": "execute_result"
    }
   ],
   "source": [
    "#for problem 2\n",
    "transmat1= np.array([[0.7, 0.6],\n",
    "                     [0.3, 0.4]])\n",
    "steady_state(transmat1)"
   ]
  },
  {
   "cell_type": "code",
   "execution_count": 11,
   "metadata": {
    "collapsed": false
   },
   "outputs": [
    {
     "data": {
      "text/plain": [
       "[0.66281000000000001, 0.33718999999999999]"
      ]
     },
     "execution_count": 11,
     "metadata": {},
     "output_type": "execute_result"
    }
   ],
   "source": [
    "#check it with the forecasted weather using large number of days\n",
    "preds1000 = forecast(100000)\n",
    "states = [0, 1]\n",
    "counts = [np.mean(preds1000==i) for i in states]\n",
    "counts"
   ]
  },
  {
   "cell_type": "code",
   "execution_count": 12,
   "metadata": {
    "collapsed": false
   },
   "outputs": [
    {
     "data": {
      "text/plain": [
       "array([ 0.24655172,  0.3       ,  0.33275862,  0.12068966])"
      ]
     },
     "execution_count": 12,
     "metadata": {},
     "output_type": "execute_result"
    }
   ],
   "source": [
    "#for problem 3\n",
    "transmat2 = np.array([[0.5, 0.3, 0.1, 0.0],\n",
    "                      [0.3, 0.3, 0.3, 0.3],\n",
    "                      [0.2, 0.3, 0.4, 0.5],\n",
    "                      [0.0, 0.1, 0.2, 0.2]])\n",
    "steady_state(transmat2)"
   ]
  },
  {
   "cell_type": "code",
   "execution_count": 13,
   "metadata": {
    "collapsed": false
   },
   "outputs": [
    {
     "data": {
      "text/plain": [
       "[0.24235999999999999,\n",
       " 0.30127999999999999,\n",
       " 0.33584999999999998,\n",
       " 0.12051000000000001]"
      ]
     },
     "execution_count": 13,
     "metadata": {},
     "output_type": "execute_result"
    }
   ],
   "source": [
    "#check it with the forecasted weather using large number of days\n",
    "preds1000 = four_state_forecast(100000)\n",
    "states = [0, 1, 2, 3]\n",
    "counts = [np.mean(preds1000==i) for i in states]\n",
    "counts"
   ]
  },
  {
   "cell_type": "markdown",
   "metadata": {},
   "source": [
    "### Problem 5 and 6"
   ]
  },
  {
   "cell_type": "code",
   "execution_count": 14,
   "metadata": {
    "collapsed": true
   },
   "outputs": [],
   "source": [
    "class SentenceGenerator(object):\n",
    "    \"\"\"Markov chain creator for simulating bad English.\n",
    "\n",
    "    Attributes:\n",
    "        (what attributes do you need to keep track of?)\n",
    "\n",
    "    Example:\n",
    "        >>> yoda = SentenceGenerator(\"Yoda.txt\")\n",
    "        >>> print yoda.babble()\n",
    "        The dark side of loss is a path as one with you.\n",
    "    \"\"\"\n",
    "\n",
    "    def __init__(self, filename):\n",
    "        \"\"\"Read the specified file and build a transition matrix from its\n",
    "        contents. You may assume that the file has one complete sentence\n",
    "        written on each line.\n",
    "        \"\"\"\n",
    "        #raise NotImplementedError(\"Problem 5 Incomplete\")\n",
    "        with open(filename, \"r\") as file:\n",
    "            data = file.read()\n",
    "            sentences = data.split(\"\\n\")\n",
    "            unique_words = np.concatenate(([\"$tart\"], np.unique(data.split()), [\"$top\"]))\n",
    "        transmat = np.zeros((len(unique_words), len(unique_words)))\n",
    "        vocab_ind = dict(zip(unique_words, np.arange(len(unique_words)))) #vocabulary of words\n",
    "\n",
    "        for sent in sentences:\n",
    "            words = sent.split()\n",
    "            current = \"$tart\"\n",
    "            for i in words:\n",
    "                transmat[vocab_ind[i], vocab_ind[current],]+=1  \n",
    "                current = i\n",
    "            transmat[vocab_ind[\"$top\"], vocab_ind[i]]+=1\n",
    "            transmat[vocab_ind[\"$top\"], vocab_ind[\"$top\"]]+=1\n",
    "        transmat /= np.sum(transmat, axis=0)\n",
    "        self.vocab_ind = vocab_ind\n",
    "        self.vocab_ind_rev = {self.vocab_ind[i]:i for i in self.vocab_ind}\n",
    "        self.transmat = transmat\n",
    "        \n",
    "    def babble(self):\n",
    "        \"\"\"Begin at the start sate and use the strategy from\n",
    "        four_state_forecast() to transition through the Markov chain.\n",
    "        Keep track of the path through the chain and the corresponding words.\n",
    "        When the stop state is reached, stop transitioning and terminate the\n",
    "        sentence. Return the resulting sentence as a single string.\n",
    "        \"\"\"\n",
    "        #raise NotImplementedError(\"Problem 6 Incomplete\")\n",
    "        x0 = 0\n",
    "        string = []\n",
    "        while x0!=self.vocab_ind[\"$top\"]:\n",
    "            x1 = np.argmax(np.random.multinomial(1, self.transmat[:,x0]))  \n",
    "            string.append(self.vocab_ind_rev[x1])\n",
    "            x0 = x1\n",
    "        return \" \".join(string[:-1])"
   ]
  },
  {
   "cell_type": "code",
   "execution_count": 15,
   "metadata": {
    "collapsed": true
   },
   "outputs": [],
   "source": [
    "sg = SentenceGenerator(\"tswift1989.txt\")"
   ]
  },
  {
   "cell_type": "code",
   "execution_count": 16,
   "metadata": {
    "collapsed": false
   },
   "outputs": [
    {
     "name": "stdout",
     "output_type": "stream",
     "text": [
      "heart-breakers gonna hate hate hate hate hate hate hate hate hate\n",
      "i shake it off\n",
      "the sunset babe red lip classic thing that i'll put it works\n",
      "well and white but you're still don't fix bullet holes\n",
      "pictures in your mind saying it's how it go out of you leave me out to my street the pain\n",
      "i can't stop grooving\n",
      "baby now\n",
      "i wish\n",
      "good\n",
      "and they'll tell you took our bags on and we first dropped our broken hearts put them say you've done\n",
      "and on my neck\n",
      "this love it's always want back where i'm just gone was stay\n",
      "she'll open up but you're the end as long list of style\n",
      "it's been\n",
      "your passport and that's how you have to do this love left a long list of kisses on apartment floors\n",
      "i wish i shake it works\n",
      "i wish i wish you know it could've been losing grip oh my brain\n",
      "all the sky turned black like i wish i know you would wait forever but i shake shake it off he's so it's a tight little flame it off\n",
      "i'm lightning on and guns\n",
      "you had to my room when it's torture\n",
      "people say you'll remember what you've done\n",
      "so simple\n",
      "the past\n",
      "lights are we can heal but i shake it off\n",
      "all you live with thorns\n"
     ]
    }
   ],
   "source": [
    "for i in range(25):\n",
    "    print(sg.babble())"
   ]
  },
  {
   "cell_type": "code",
   "execution_count": null,
   "metadata": {
    "collapsed": true
   },
   "outputs": [],
   "source": []
  }
 ],
 "metadata": {
  "kernelspec": {
   "display_name": "Python [conda env:impact]",
   "language": "python",
   "name": "conda-env-impact-py"
  },
  "language_info": {
   "codemirror_mode": {
    "name": "ipython",
    "version": 3
   },
   "file_extension": ".py",
   "mimetype": "text/x-python",
   "name": "python",
   "nbconvert_exporter": "python",
   "pygments_lexer": "ipython3",
   "version": "3.6.0"
  }
 },
 "nbformat": 4,
 "nbformat_minor": 1
}
