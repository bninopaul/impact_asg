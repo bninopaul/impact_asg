{
 "cells": [
  {
   "cell_type": "code",
   "execution_count": 1,
   "metadata": {
    "collapsed": true
   },
   "outputs": [],
   "source": [
    "import numpy as np\n",
    "import scipy.stats as stats"
   ]
  },
  {
   "cell_type": "markdown",
   "metadata": {},
   "source": [
    "### HW  Problem\n",
    "\n",
    "Write a python code to accept a sequence of $X_1, X_2, ..., X_n$ of coin flip results and initial guess $\\theta_A^0, \\theta_b^0$, do EM to find $\\hat{\\theta_A}, \\hat{\\theta_b}$\n",
    "\n",
    "Write more code to assemble these to give $\\hat{\\theta_A}, \\hat{\\theta_b}$"
   ]
  },
  {
   "cell_type": "code",
   "execution_count": 2,
   "metadata": {
    "collapsed": false
   },
   "outputs": [],
   "source": [
    "def em(x, n, num_iter=100):\n",
    "    \"\"\"\n",
    "    Parameters:\n",
    "    x: 1-d array of counts of heads in a series of coin flip experiments\n",
    "    n: number of coin flips in each trial\n",
    "    \"\"\"\n",
    "    param = np.random.random(2)\n",
    "    if max(x)>n:\n",
    "        raise ValueError(\"Values in x should not be greater than n\")\n",
    "    \n",
    "    for i in range(num_iter):\n",
    "        #Expectation step\n",
    "        #get the prob dist over the two biased coins(binomial)\n",
    "        prob = np.array([stats.binom.pmf(x, n, p) for p in param])\n",
    "        prob = prob/np.sum(prob, axis=0) #normalize\n",
    "        \n",
    "        exp_heads = prob*x #expectation for heads\n",
    "        exp_tails = prob*(n-x) #expectation of tails\n",
    "        \n",
    "        #Maximization step\n",
    "        param = np.sum(exp_heads, axis=1)/np.sum(exp_heads+exp_tails, axis=1)\n",
    "    return param"
   ]
  },
  {
   "cell_type": "code",
   "execution_count": 3,
   "metadata": {
    "collapsed": false
   },
   "outputs": [],
   "source": [
    "#test simulation\n",
    "true_param = np.array([0.10, 0.80]) #probabilities of heads in each of the coin\n",
    "\n",
    "#suppose we which coin was used in the series of 100 experiments\n",
    "coin_used = np.random.binomial(1, 0.5, size=100)#(bernoulli values) 0 for coin A and 1 for coin B\n",
    "\n",
    "#generate samples\n",
    "n = 10\n",
    "x = np.random.binomial(10, true_param[coin_used], len(coin_used))"
   ]
  },
  {
   "cell_type": "code",
   "execution_count": 4,
   "metadata": {
    "collapsed": false
   },
   "outputs": [
    {
     "name": "stdout",
     "output_type": "stream",
     "text": [
      "[ 0.09230997  0.81856534]\n",
      "[ 0.09230997  0.81856534]\n",
      "[ 0.81856534  0.09230997]\n",
      "[ 0.09230997  0.81856534]\n",
      "[ 0.81856534  0.09230997]\n",
      "[ 0.09230997  0.81856534]\n",
      "[ 0.09230997  0.81856534]\n",
      "[ 0.81856534  0.09230997]\n",
      "[ 0.09230997  0.81856534]\n",
      "[ 0.09230997  0.81856534]\n",
      "[ 0.09230997  0.81856534]\n",
      "[ 0.09230997  0.81856534]\n",
      "[ 0.09230997  0.81856534]\n",
      "[ 0.81856534  0.09230997]\n",
      "[ 0.09230997  0.81856534]\n",
      "[ 0.09230997  0.81856534]\n",
      "[ 0.09230997  0.81856534]\n",
      "[ 0.09230997  0.81856534]\n",
      "[ 0.81856534  0.09230997]\n",
      "[ 0.09230997  0.81856534]\n"
     ]
    }
   ],
   "source": [
    "#run em for several iterations and see the results:\n",
    "for i in range(20):\n",
    "    print(em(x, n))"
   ]
  },
  {
   "cell_type": "code",
   "execution_count": null,
   "metadata": {
    "collapsed": true
   },
   "outputs": [],
   "source": []
  }
 ],
 "metadata": {
  "anaconda-cloud": {},
  "kernelspec": {
   "display_name": "Python [conda env:impact]",
   "language": "python",
   "name": "conda-env-impact-py"
  },
  "language_info": {
   "codemirror_mode": {
    "name": "ipython",
    "version": 3
   },
   "file_extension": ".py",
   "mimetype": "text/x-python",
   "name": "python",
   "nbconvert_exporter": "python",
   "pygments_lexer": "ipython3",
   "version": "3.6.0"
  }
 },
 "nbformat": 4,
 "nbformat_minor": 1
}
